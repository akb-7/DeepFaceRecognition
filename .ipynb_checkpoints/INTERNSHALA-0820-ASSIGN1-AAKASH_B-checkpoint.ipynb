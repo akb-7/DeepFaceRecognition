{
 "cells": [
  {
   "cell_type": "markdown",
   "metadata": {},
   "source": [
    "<h1 style=\"text-align:center\";>Nuclei Technologies</h1>\n",
    "<h2 style=\"text-align:right\";>Done by B.Aakash<h2>\n",
    "\n",
    "<h3>Problem Statement</h3>\n",
    "\n",
    "<p>We want you to implement a face recognition system, don't worry we have a tutorial to guide you through it as well. Follow this video and try to implement a Face Recognition system using the pretrained model, you can use your own sample images from the internet to try it.</p>"
   ]
  },
  {
   "cell_type": "markdown",
   "metadata": {},
   "source": [
    "<img src=\"http://www.camera-module.com/upfile/2019/06/20190616212440_891.png\">\n"
   ]
  },
  {
   "cell_type": "markdown",
   "metadata": {},
   "source": [
    "# Now for that we need to create a Dataset\n"
   ]
  },
  {
   "cell_type": "code",
   "execution_count": 1,
   "metadata": {
    "ExecuteTime": {
     "end_time": "2021-12-24T15:45:26.195620Z",
     "start_time": "2021-12-24T15:44:41.314975Z"
    }
   },
   "outputs": [
    {
     "name": "stderr",
     "output_type": "stream",
     "text": [
      "<>:16: SyntaxWarning: \"is\" with a literal. Did you mean \"==\"?\n",
      "<>:16: SyntaxWarning: \"is\" with a literal. Did you mean \"==\"?\n"
     ]
    },
    {
     "name": "stdout",
     "output_type": "stream",
     "text": [
      "Enter the Person's Name ....aakash\n"
     ]
    },
    {
     "name": "stderr",
     "output_type": "stream",
     "text": [
      "<ipython-input-1-8baf8b554d48>:16: SyntaxWarning: \"is\" with a literal. Did you mean \"==\"?\n",
      "  if faces is ():\n"
     ]
    },
    {
     "ename": "KeyboardInterrupt",
     "evalue": "",
     "output_type": "error",
     "traceback": [
      "\u001b[1;31m---------------------------------------------------------------------------\u001b[0m",
      "\u001b[1;31mKeyboardInterrupt\u001b[0m                         Traceback (most recent call last)",
      "\u001b[1;32m<ipython-input-1-8baf8b554d48>\u001b[0m in \u001b[0;36m<module>\u001b[1;34m\u001b[0m\n\u001b[0;32m     32\u001b[0m \u001b[1;33m\u001b[0m\u001b[0m\n\u001b[0;32m     33\u001b[0m     \u001b[0mret\u001b[0m\u001b[1;33m,\u001b[0m \u001b[0mframe\u001b[0m \u001b[1;33m=\u001b[0m \u001b[0mcap\u001b[0m\u001b[1;33m.\u001b[0m\u001b[0mread\u001b[0m\u001b[1;33m(\u001b[0m\u001b[1;33m)\u001b[0m\u001b[1;33m\u001b[0m\u001b[1;33m\u001b[0m\u001b[0m\n\u001b[1;32m---> 34\u001b[1;33m     \u001b[1;32mif\u001b[0m \u001b[0mface_extractor\u001b[0m\u001b[1;33m(\u001b[0m\u001b[0mframe\u001b[0m\u001b[1;33m)\u001b[0m \u001b[1;32mis\u001b[0m \u001b[1;32mnot\u001b[0m \u001b[1;32mNone\u001b[0m\u001b[1;33m:\u001b[0m\u001b[1;33m\u001b[0m\u001b[1;33m\u001b[0m\u001b[0m\n\u001b[0m\u001b[0;32m     35\u001b[0m         \u001b[0mcount\u001b[0m \u001b[1;33m+=\u001b[0m \u001b[1;36m1\u001b[0m\u001b[1;33m\u001b[0m\u001b[1;33m\u001b[0m\u001b[0m\n\u001b[0;32m     36\u001b[0m         \u001b[0mface\u001b[0m \u001b[1;33m=\u001b[0m \u001b[0mcv2\u001b[0m\u001b[1;33m.\u001b[0m\u001b[0mresize\u001b[0m\u001b[1;33m(\u001b[0m\u001b[0mface_extractor\u001b[0m\u001b[1;33m(\u001b[0m\u001b[0mframe\u001b[0m\u001b[1;33m)\u001b[0m\u001b[1;33m,\u001b[0m \u001b[1;33m(\u001b[0m\u001b[1;36m400\u001b[0m\u001b[1;33m,\u001b[0m \u001b[1;36m400\u001b[0m\u001b[1;33m)\u001b[0m\u001b[1;33m)\u001b[0m\u001b[1;33m\u001b[0m\u001b[1;33m\u001b[0m\u001b[0m\n",
      "\u001b[1;32m<ipython-input-1-8baf8b554d48>\u001b[0m in \u001b[0;36mface_extractor\u001b[1;34m(img)\u001b[0m\n\u001b[0;32m     12\u001b[0m     \u001b[1;31m# Function detects faces and returns the cropped face\u001b[0m\u001b[1;33m\u001b[0m\u001b[1;33m\u001b[0m\u001b[1;33m\u001b[0m\u001b[0m\n\u001b[0;32m     13\u001b[0m \u001b[1;33m\u001b[0m\u001b[0m\n\u001b[1;32m---> 14\u001b[1;33m     \u001b[0mfaces\u001b[0m \u001b[1;33m=\u001b[0m \u001b[0mface_classifier\u001b[0m\u001b[1;33m.\u001b[0m\u001b[0mdetectMultiScale\u001b[0m\u001b[1;33m(\u001b[0m\u001b[0mimg\u001b[0m\u001b[1;33m,\u001b[0m \u001b[1;36m1.3\u001b[0m\u001b[1;33m,\u001b[0m \u001b[1;36m5\u001b[0m\u001b[1;33m)\u001b[0m\u001b[1;33m\u001b[0m\u001b[1;33m\u001b[0m\u001b[0m\n\u001b[0m\u001b[0;32m     15\u001b[0m \u001b[1;33m\u001b[0m\u001b[0m\n\u001b[0;32m     16\u001b[0m     \u001b[1;32mif\u001b[0m \u001b[0mfaces\u001b[0m \u001b[1;32mis\u001b[0m \u001b[1;33m(\u001b[0m\u001b[1;33m)\u001b[0m\u001b[1;33m:\u001b[0m\u001b[1;33m\u001b[0m\u001b[1;33m\u001b[0m\u001b[0m\n",
      "\u001b[1;31mKeyboardInterrupt\u001b[0m: "
     ]
    }
   ],
   "source": [
    "import cv2\n",
    "import numpy as np\n",
    "import os\n",
    "\n",
    "\n",
    "\n",
    "face_classifier = cv2.CascadeClassifier('utils/haarcascade_frontalface_default.xml')\n",
    "\n",
    "name = input(\"Enter the Person's Name ....\")\n",
    "\n",
    "def face_extractor(img):\n",
    "    # Function detects faces and returns the cropped face\n",
    "    \n",
    "    faces = face_classifier.detectMultiScale(img, 1.3, 5)\n",
    "    \n",
    "    if faces == ():\n",
    "        return None\n",
    "    \n",
    "    # Cropping the images    \n",
    "    for (x,y,w,h) in faces:\n",
    "        x=x-10\n",
    "        y=y-10\n",
    "        cropped_face = img[y:y+h+50, x:x+w+50]\n",
    "\n",
    "    return cropped_face\n",
    "\n",
    "\n",
    "cap = cv2.VideoCapture(-1)\n",
    "count = 0 # for convenience for us to save the images so that it doesn't save the same file\n",
    "\n",
    "while True:\n",
    "\n",
    "    ret, frame = cap.read()\n",
    "    if face_extractor(frame) is not None:\n",
    "        count += 1\n",
    "        face = cv2.resize(face_extractor(frame), (400, 400))\n",
    "\n",
    "        # Save file in specified directory with unique name\n",
    "        file_name_path = './Dataset/' + name +\"-\"+ str(count) + '.jpg'\n",
    "        cv2.imwrite(file_name_path, face)\n",
    "\n",
    "        # Put count on images and display live count\n",
    "        cv2.putText(face, str(count), (50, 50), cv2.FONT_HERSHEY_COMPLEX, 1, (0,255,0), 2)\n",
    "        cv2.imshow('Face Cropper', face)\n",
    "        \n",
    "    else:\n",
    "        #print(\"Face not found\")\n",
    "        pass\n",
    "\n",
    "    if cv2.waitKey(1) == 13 or count == 100: #13 is the Enter Key\n",
    "        break\n",
    "cap.release()\n",
    "cv2.destroyAllWindows()      \n",
    "print(\"Collecting Samples Complete\")"
   ]
  },
  {
   "cell_type": "markdown",
   "metadata": {},
   "source": [
    "# Face-Recognition"
   ]
  },
  {
   "cell_type": "markdown",
   "metadata": {},
   "source": [
    "### Since I trained the model in kaggle for faster computation i have uploaded the dataset in kaggle and computed as shown below"
   ]
  },
  {
   "cell_type": "code",
   "execution_count": 1,
   "metadata": {
    "_cell_guid": "b1076dfc-b9ad-4769-8c92-a6c4dae69d19",
    "_uuid": "8f2839f25d086af736a60e9eeb907d3b93b6e0e5",
    "execution": {
     "iopub.execute_input": "2020-08-10T16:50:35.721600Z",
     "iopub.status.busy": "2020-08-10T16:50:35.720876Z",
     "iopub.status.idle": "2020-08-10T16:50:35.790220Z",
     "shell.execute_reply": "2020-08-10T16:50:35.789275Z"
    },
    "papermill": {
     "duration": 0.088805,
     "end_time": "2020-08-10T16:50:35.790427",
     "exception": false,
     "start_time": "2020-08-10T16:50:35.701622",
     "status": "completed"
    },
    "tags": []
   },
   "outputs": [
    {
     "name": "stdout",
     "output_type": "stream",
     "text": [
      "/kaggle/input/face3recog/Dataset/Test/Babu/Babu_test-33.jpg\n",
      "/kaggle/input/face3recog/Dataset/Test/Babu/Babu_test-37.jpg\n",
      "/kaggle/input/face3recog/Dataset/Test/Babu/Babu_test-9.jpg\n",
      "/kaggle/input/face3recog/Dataset/Test/Babu/Babu_test-36.jpg\n",
      "/kaggle/input/face3recog/Dataset/Test/Babu/Babu_test-21.jpg\n",
      "/kaggle/input/face3recog/Dataset/Test/Babu/Babu_test-30.jpg\n",
      "/kaggle/input/face3recog/Dataset/Test/Babu/Babu_test-27.jpg\n",
      "/kaggle/input/face3recog/Dataset/Test/Babu/Babu_test-16.jpg\n",
      "/kaggle/input/face3recog/Dataset/Test/Babu/Babu_test-17.jpg\n",
      "/kaggle/input/face3recog/Dataset/Test/Babu/Babu_test-22.jpg\n",
      "/kaggle/input/face3recog/Dataset/Test/Babu/Babu_test-25.jpg\n",
      "/kaggle/input/face3recog/Dataset/Test/Babu/Babu_test-13.jpg\n",
      "/kaggle/input/face3recog/Dataset/Test/Babu/Babu_test-12.jpg\n",
      "/kaggle/input/face3recog/Dataset/Test/Babu/Babu_test-19.jpg\n",
      "/kaggle/input/face3recog/Dataset/Test/Babu/Babu_test-11.jpg\n",
      "/kaggle/input/face3recog/Dataset/Test/Babu/Babu_test-23.jpg\n",
      "/kaggle/input/face3recog/Dataset/Test/Babu/Babu_test-1.jpg\n",
      "/kaggle/input/face3recog/Dataset/Test/Babu/Babu_test-26.jpg\n",
      "/kaggle/input/face3recog/Dataset/Test/Babu/Babu_test-18.jpg\n",
      "/kaggle/input/face3recog/Dataset/Test/Babu/Babu_test-28.jpg\n",
      "/kaggle/input/face3recog/Dataset/Test/Babu/Babu_test-15.jpg\n",
      "/kaggle/input/face3recog/Dataset/Test/Babu/Babu_test-29.jpg\n",
      "/kaggle/input/face3recog/Dataset/Test/Babu/Babu_test-32.jpg\n",
      "/kaggle/input/face3recog/Dataset/Test/Babu/Babu_test-31.jpg\n",
      "/kaggle/input/face3recog/Dataset/Test/Babu/Babu_test-35.jpg\n",
      "/kaggle/input/face3recog/Dataset/Test/Babu/Babu_test-14.jpg\n",
      "/kaggle/input/face3recog/Dataset/Test/Babu/Babu_test-20.jpg\n",
      "/kaggle/input/face3recog/Dataset/Test/Babu/Babu_test-10.jpg\n",
      "/kaggle/input/face3recog/Dataset/Test/Babu/Babu_test-24.jpg\n",
      "/kaggle/input/face3recog/Dataset/Test/Babu/Babu_test-34.jpg\n",
      "/kaggle/input/face3recog/Dataset/Test/Aakash/Aakash-64.jpg\n",
      "/kaggle/input/face3recog/Dataset/Test/Aakash/Aakash-52.jpg\n",
      "/kaggle/input/face3recog/Dataset/Test/Aakash/Aakash-38.jpg\n",
      "/kaggle/input/face3recog/Dataset/Test/Aakash/Aakash-60.jpg\n",
      "/kaggle/input/face3recog/Dataset/Test/Aakash/Aakash-54.jpg\n",
      "/kaggle/input/face3recog/Dataset/Test/Aakash/Aakash-55.jpg\n",
      "/kaggle/input/face3recog/Dataset/Test/Aakash/Aakash-41.jpg\n",
      "/kaggle/input/face3recog/Dataset/Test/Aakash/Aakash-42.jpg\n",
      "/kaggle/input/face3recog/Dataset/Test/Aakash/Aakash-61.jpg\n",
      "/kaggle/input/face3recog/Dataset/Test/Aakash/Aakash-56.jpg\n",
      "/kaggle/input/face3recog/Dataset/Test/Aakash/Aakash-62.jpg\n",
      "/kaggle/input/face3recog/Dataset/Test/Aakash/Aakash-46.jpg\n",
      "/kaggle/input/face3recog/Dataset/Test/Aakash/Aakash-36.jpg\n",
      "/kaggle/input/face3recog/Dataset/Test/Aakash/Aakash-50.jpg\n",
      "/kaggle/input/face3recog/Dataset/Test/Aakash/Aakash-43.jpg\n",
      "/kaggle/input/face3recog/Dataset/Test/Aakash/Aakash-39.jpg\n",
      "/kaggle/input/face3recog/Dataset/Test/Aakash/Aakash-48.jpg\n",
      "/kaggle/input/face3recog/Dataset/Test/Aakash/Aakash-57.jpg\n",
      "/kaggle/input/face3recog/Dataset/Test/Aakash/Aakash-47.jpg\n",
      "/kaggle/input/face3recog/Dataset/Test/Aakash/Aakash-59.jpg\n",
      "/kaggle/input/face3recog/Dataset/Test/Aakash/Aakash-51.jpg\n",
      "/kaggle/input/face3recog/Dataset/Test/Aakash/Aakash-58.jpg\n",
      "/kaggle/input/face3recog/Dataset/Test/Aakash/Aakash-40.jpg\n",
      "/kaggle/input/face3recog/Dataset/Test/Aakash/Aakash-49.jpg\n",
      "/kaggle/input/face3recog/Dataset/Test/Aakash/Aakash-45.jpg\n",
      "/kaggle/input/face3recog/Dataset/Test/Aakash/Aakash-63.jpg\n",
      "/kaggle/input/face3recog/Dataset/Test/Aakash/Aakash-53.jpg\n",
      "/kaggle/input/face3recog/Dataset/Test/Aakash/Aakash-44.jpg\n",
      "/kaggle/input/face3recog/Dataset/Test/Aakash/Aakash-65.jpg\n",
      "/kaggle/input/face3recog/Dataset/Test/Aakash/Aakash-37.jpg\n",
      "/kaggle/input/face3recog/Dataset/Test/Raghava/Raghava_test-69.jpg\n",
      "/kaggle/input/face3recog/Dataset/Test/Raghava/Raghava_test-67.jpg\n",
      "/kaggle/input/face3recog/Dataset/Test/Raghava/Raghava_test-98.jpg\n",
      "/kaggle/input/face3recog/Dataset/Test/Raghava/Raghava_test-65.jpg\n",
      "/kaggle/input/face3recog/Dataset/Test/Raghava/Raghava_test-9.jpg\n",
      "/kaggle/input/face3recog/Dataset/Test/Raghava/Raghava_test-91.jpg\n",
      "/kaggle/input/face3recog/Dataset/Test/Raghava/Raghava_test-4.jpg\n",
      "/kaggle/input/face3recog/Dataset/Test/Raghava/Raghava_test-66.jpg\n",
      "/kaggle/input/face3recog/Dataset/Test/Raghava/Raghava_test-72.jpg\n",
      "/kaggle/input/face3recog/Dataset/Test/Raghava/Raghava_test-6.jpg\n",
      "/kaggle/input/face3recog/Dataset/Test/Raghava/Raghava_test-97.jpg\n",
      "/kaggle/input/face3recog/Dataset/Test/Raghava/Raghava_test-74.jpg\n",
      "/kaggle/input/face3recog/Dataset/Test/Raghava/Raghava_test-73.jpg\n",
      "/kaggle/input/face3recog/Dataset/Test/Raghava/Raghava_test-96.jpg\n",
      "/kaggle/input/face3recog/Dataset/Test/Raghava/Raghava_test-100.jpg\n",
      "/kaggle/input/face3recog/Dataset/Test/Raghava/Raghava_test-5.jpg\n",
      "/kaggle/input/face3recog/Dataset/Test/Raghava/Raghava_test-99.jpg\n",
      "/kaggle/input/face3recog/Dataset/Test/Raghava/Raghava_test-8.jpg\n",
      "/kaggle/input/face3recog/Dataset/Test/Raghava/Raghava_test-71.jpg\n",
      "/kaggle/input/face3recog/Dataset/Test/Raghava/Raghava_test-92.jpg\n",
      "/kaggle/input/face3recog/Dataset/Test/Raghava/Raghava_test-94.jpg\n",
      "/kaggle/input/face3recog/Dataset/Test/Raghava/Raghava_test-7.jpg\n",
      "/kaggle/input/face3recog/Dataset/Test/Raghava/Raghava_test-10.jpg\n",
      "/kaggle/input/face3recog/Dataset/Test/Raghava/Raghava_test-68.jpg\n",
      "/kaggle/input/face3recog/Dataset/Test/Raghava/Raghava_test-95.jpg\n",
      "/kaggle/input/face3recog/Dataset/Test/Raghava/Raghava_test-3.jpg\n",
      "/kaggle/input/face3recog/Dataset/Test/Raghava/Raghava_test-1.jpg\n",
      "/kaggle/input/face3recog/Dataset/Test/Raghava/Raghava_test-93.jpg\n",
      "/kaggle/input/face3recog/Dataset/Test/Raghava/Raghava_test-2.jpg\n",
      "/kaggle/input/face3recog/Dataset/Test/Raghava/Raghava_test-70.jpg\n",
      "/kaggle/input/face3recog/Dataset/Train/Babu/Babu-15.jpg\n",
      "/kaggle/input/face3recog/Dataset/Train/Babu/Babu-9.jpg\n",
      "/kaggle/input/face3recog/Dataset/Train/Babu/Babu-95.jpg\n",
      "/kaggle/input/face3recog/Dataset/Train/Babu/Babu-11.jpg\n",
      "/kaggle/input/face3recog/Dataset/Train/Babu/Babu-38.jpg\n",
      "/kaggle/input/face3recog/Dataset/Train/Babu/Babu-61.jpg\n",
      "/kaggle/input/face3recog/Dataset/Train/Babu/Babu-27.jpg\n",
      "/kaggle/input/face3recog/Dataset/Train/Babu/Babu-35.jpg\n",
      "/kaggle/input/face3recog/Dataset/Train/Babu/Babu-47.jpg\n",
      "/kaggle/input/face3recog/Dataset/Train/Babu/Babu-100.jpg\n",
      "/kaggle/input/face3recog/Dataset/Train/Babu/Babu-20.jpg\n",
      "/kaggle/input/face3recog/Dataset/Train/Babu/Babu-49.jpg\n",
      "/kaggle/input/face3recog/Dataset/Train/Babu/Babu-29.jpg\n",
      "/kaggle/input/face3recog/Dataset/Train/Babu/Babu-60.jpg\n",
      "/kaggle/input/face3recog/Dataset/Train/Babu/Babu-17.jpg\n",
      "/kaggle/input/face3recog/Dataset/Train/Babu/Babu-56.jpg\n",
      "/kaggle/input/face3recog/Dataset/Train/Babu/Babu-90.jpg\n",
      "/kaggle/input/face3recog/Dataset/Train/Babu/Babu-41.jpg\n",
      "/kaggle/input/face3recog/Dataset/Train/Babu/Babu-77.jpg\n",
      "/kaggle/input/face3recog/Dataset/Train/Babu/Babu-97.jpg\n",
      "/kaggle/input/face3recog/Dataset/Train/Babu/Babu-84.jpg\n",
      "/kaggle/input/face3recog/Dataset/Train/Babu/Babu-79.jpg\n",
      "/kaggle/input/face3recog/Dataset/Train/Babu/Babu-91.jpg\n",
      "/kaggle/input/face3recog/Dataset/Train/Babu/Babu-50.jpg\n",
      "/kaggle/input/face3recog/Dataset/Train/Babu/Babu-54.jpg\n",
      "/kaggle/input/face3recog/Dataset/Train/Babu/Babu-55.jpg\n",
      "/kaggle/input/face3recog/Dataset/Train/Babu/Babu-8.jpg\n",
      "/kaggle/input/face3recog/Dataset/Train/Babu/Babu-30.jpg\n",
      "/kaggle/input/face3recog/Dataset/Train/Babu/Babu-40.jpg\n",
      "/kaggle/input/face3recog/Dataset/Train/Babu/Babu-80.jpg\n",
      "/kaggle/input/face3recog/Dataset/Train/Babu/Babu-48.jpg\n",
      "/kaggle/input/face3recog/Dataset/Train/Babu/Babu-23.jpg\n",
      "/kaggle/input/face3recog/Dataset/Train/Babu/Babu-28.jpg\n",
      "/kaggle/input/face3recog/Dataset/Train/Babu/Babu-89.jpg\n",
      "/kaggle/input/face3recog/Dataset/Train/Babu/Babu-70.jpg\n",
      "/kaggle/input/face3recog/Dataset/Train/Babu/Babu-26.jpg\n",
      "/kaggle/input/face3recog/Dataset/Train/Babu/Babu-81.jpg\n",
      "/kaggle/input/face3recog/Dataset/Train/Babu/Babu-87.jpg\n",
      "/kaggle/input/face3recog/Dataset/Train/Babu/Babu-10.jpg\n",
      "/kaggle/input/face3recog/Dataset/Train/Babu/Babu-24.jpg\n",
      "/kaggle/input/face3recog/Dataset/Train/Babu/Babu-85.jpg\n",
      "/kaggle/input/face3recog/Dataset/Train/Babu/Babu-19.jpg\n",
      "/kaggle/input/face3recog/Dataset/Train/Babu/Babu-6.jpg\n",
      "/kaggle/input/face3recog/Dataset/Train/Babu/Babu-96.jpg\n",
      "/kaggle/input/face3recog/Dataset/Train/Babu/Babu-53.jpg\n",
      "/kaggle/input/face3recog/Dataset/Train/Babu/Babu-74.jpg\n",
      "/kaggle/input/face3recog/Dataset/Train/Babu/Babu-39.jpg\n",
      "/kaggle/input/face3recog/Dataset/Train/Babu/Babu-14.jpg\n",
      "/kaggle/input/face3recog/Dataset/Train/Babu/Babu-72.jpg\n",
      "/kaggle/input/face3recog/Dataset/Train/Babu/Babu-83.jpg\n",
      "/kaggle/input/face3recog/Dataset/Train/Babu/Babu-42.jpg\n",
      "/kaggle/input/face3recog/Dataset/Train/Babu/Babu-94.jpg\n",
      "/kaggle/input/face3recog/Dataset/Train/Babu/Babu-36.jpg\n",
      "/kaggle/input/face3recog/Dataset/Train/Babu/Babu-3.jpg\n",
      "/kaggle/input/face3recog/Dataset/Train/Babu/Babu-34.jpg\n",
      "/kaggle/input/face3recog/Dataset/Train/Babu/Babu-82.jpg\n",
      "/kaggle/input/face3recog/Dataset/Train/Babu/Babu-62.jpg\n",
      "/kaggle/input/face3recog/Dataset/Train/Babu/Babu-73.jpg\n",
      "/kaggle/input/face3recog/Dataset/Train/Babu/Babu-37.jpg\n",
      "/kaggle/input/face3recog/Dataset/Train/Babu/Babu-71.jpg\n",
      "/kaggle/input/face3recog/Dataset/Train/Babu/Babu-99.jpg\n",
      "/kaggle/input/face3recog/Dataset/Train/Babu/Babu-78.jpg\n",
      "/kaggle/input/face3recog/Dataset/Train/Babu/Babu-69.jpg\n",
      "/kaggle/input/face3recog/Dataset/Train/Babu/Babu-43.jpg\n",
      "/kaggle/input/face3recog/Dataset/Train/Babu/Babu-25.jpg\n",
      "/kaggle/input/face3recog/Dataset/Train/Babu/Babu-5.jpg\n",
      "/kaggle/input/face3recog/Dataset/Train/Babu/Babu-68.jpg\n",
      "/kaggle/input/face3recog/Dataset/Train/Babu/Babu-66.jpg\n",
      "/kaggle/input/face3recog/Dataset/Train/Babu/Babu-92.jpg\n",
      "/kaggle/input/face3recog/Dataset/Train/Babu/Babu-64.jpg\n",
      "/kaggle/input/face3recog/Dataset/Train/Babu/Babu-1.jpg\n",
      "/kaggle/input/face3recog/Dataset/Train/Babu/Babu-86.jpg\n",
      "/kaggle/input/face3recog/Dataset/Train/Babu/Babu-32.jpg\n",
      "/kaggle/input/face3recog/Dataset/Train/Babu/Babu-2.jpg\n",
      "/kaggle/input/face3recog/Dataset/Train/Babu/Babu-18.jpg\n",
      "/kaggle/input/face3recog/Dataset/Train/Babu/Babu-46.jpg\n",
      "/kaggle/input/face3recog/Dataset/Train/Babu/Babu-88.jpg\n",
      "/kaggle/input/face3recog/Dataset/Train/Babu/Babu-93.jpg\n",
      "/kaggle/input/face3recog/Dataset/Train/Babu/Babu-76.jpg\n",
      "/kaggle/input/face3recog/Dataset/Train/Babu/Babu-33.jpg\n",
      "/kaggle/input/face3recog/Dataset/Train/Babu/Babu-98.jpg\n",
      "/kaggle/input/face3recog/Dataset/Train/Babu/Babu-65.jpg\n",
      "/kaggle/input/face3recog/Dataset/Train/Babu/Babu-52.jpg\n",
      "/kaggle/input/face3recog/Dataset/Train/Babu/Babu-57.jpg\n",
      "/kaggle/input/face3recog/Dataset/Train/Babu/Babu-22.jpg\n",
      "/kaggle/input/face3recog/Dataset/Train/Babu/Babu-63.jpg\n",
      "/kaggle/input/face3recog/Dataset/Train/Babu/Babu-16.jpg\n",
      "/kaggle/input/face3recog/Dataset/Train/Babu/Babu-59.jpg\n",
      "/kaggle/input/face3recog/Dataset/Train/Babu/Babu-44.jpg\n",
      "/kaggle/input/face3recog/Dataset/Train/Babu/Babu-7.jpg\n",
      "/kaggle/input/face3recog/Dataset/Train/Babu/Babu-12.jpg\n",
      "/kaggle/input/face3recog/Dataset/Train/Babu/Babu-4.jpg\n",
      "/kaggle/input/face3recog/Dataset/Train/Babu/Babu-21.jpg\n",
      "/kaggle/input/face3recog/Dataset/Train/Babu/Babu-75.jpg\n",
      "/kaggle/input/face3recog/Dataset/Train/Babu/Babu-31.jpg\n",
      "/kaggle/input/face3recog/Dataset/Train/Babu/Babu-45.jpg\n",
      "/kaggle/input/face3recog/Dataset/Train/Babu/Babu-58.jpg\n",
      "/kaggle/input/face3recog/Dataset/Train/Babu/Babu-13.jpg\n",
      "/kaggle/input/face3recog/Dataset/Train/Babu/Babu-51.jpg\n",
      "/kaggle/input/face3recog/Dataset/Train/Babu/Babu-67.jpg\n",
      "/kaggle/input/face3recog/Dataset/Train/Aakash/Aakash-64.jpg\n",
      "/kaggle/input/face3recog/Dataset/Train/Aakash/Aakash-22.jpg\n",
      "/kaggle/input/face3recog/Dataset/Train/Aakash/Aakash-52.jpg\n",
      "/kaggle/input/face3recog/Dataset/Train/Aakash/Aakash-28.jpg\n",
      "/kaggle/input/face3recog/Dataset/Train/Aakash/Aakash-72.jpg\n",
      "/kaggle/input/face3recog/Dataset/Train/Aakash/Aakash-38.jpg\n",
      "/kaggle/input/face3recog/Dataset/Train/Aakash/Aakash-79.jpg\n",
      "/kaggle/input/face3recog/Dataset/Train/Aakash/Aakash-89.jpg\n",
      "/kaggle/input/face3recog/Dataset/Train/Aakash/Aakash-25.jpg\n",
      "/kaggle/input/face3recog/Dataset/Train/Aakash/Aakash-66.jpg\n",
      "/kaggle/input/face3recog/Dataset/Train/Aakash/Aakash-96.jpg\n",
      "/kaggle/input/face3recog/Dataset/Train/Aakash/Aakash-1.jpg\n",
      "/kaggle/input/face3recog/Dataset/Train/Aakash/Aakash-4.jpg\n",
      "/kaggle/input/face3recog/Dataset/Train/Aakash/Aakash-60.jpg\n",
      "/kaggle/input/face3recog/Dataset/Train/Aakash/Aakash-54.jpg\n",
      "/kaggle/input/face3recog/Dataset/Train/Aakash/Aakash-35.jpg\n",
      "/kaggle/input/face3recog/Dataset/Train/Aakash/Aakash-16.jpg\n",
      "/kaggle/input/face3recog/Dataset/Train/Aakash/Aakash-55.jpg\n",
      "/kaggle/input/face3recog/Dataset/Train/Aakash/Aakash-41.jpg\n",
      "/kaggle/input/face3recog/Dataset/Train/Aakash/Aakash-75.jpg\n",
      "/kaggle/input/face3recog/Dataset/Train/Aakash/Aakash-19.jpg\n",
      "/kaggle/input/face3recog/Dataset/Train/Aakash/Aakash-42.jpg\n",
      "/kaggle/input/face3recog/Dataset/Train/Aakash/Aakash-21.jpg\n",
      "/kaggle/input/face3recog/Dataset/Train/Aakash/Aakash-70.jpg\n",
      "/kaggle/input/face3recog/Dataset/Train/Aakash/Aakash-11.jpg\n",
      "/kaggle/input/face3recog/Dataset/Train/Aakash/Aakash-83.jpg\n",
      "/kaggle/input/face3recog/Dataset/Train/Aakash/Aakash-12.jpg\n",
      "/kaggle/input/face3recog/Dataset/Train/Aakash/Aakash-67.jpg\n",
      "/kaggle/input/face3recog/Dataset/Train/Aakash/Aakash-61.jpg\n",
      "/kaggle/input/face3recog/Dataset/Train/Aakash/Aakash-29.jpg\n",
      "/kaggle/input/face3recog/Dataset/Train/Aakash/Aakash-56.jpg\n",
      "/kaggle/input/face3recog/Dataset/Train/Aakash/Aakash-20.jpg\n",
      "/kaggle/input/face3recog/Dataset/Train/Aakash/Aakash-62.jpg\n",
      "/kaggle/input/face3recog/Dataset/Train/Aakash/Aakash-33.jpg\n",
      "/kaggle/input/face3recog/Dataset/Train/Aakash/Aakash-46.jpg\n",
      "/kaggle/input/face3recog/Dataset/Train/Aakash/Aakash-87.jpg\n",
      "/kaggle/input/face3recog/Dataset/Train/Aakash/Aakash-82.jpg\n",
      "/kaggle/input/face3recog/Dataset/Train/Aakash/Aakash-36.jpg\n",
      "/kaggle/input/face3recog/Dataset/Train/Aakash/Aakash-50.jpg\n",
      "/kaggle/input/face3recog/Dataset/Train/Aakash/Aakash-85.jpg\n",
      "/kaggle/input/face3recog/Dataset/Train/Aakash/Aakash-34.jpg\n",
      "/kaggle/input/face3recog/Dataset/Train/Aakash/Aakash-88.jpg\n",
      "/kaggle/input/face3recog/Dataset/Train/Aakash/Aakash-2.jpg\n",
      "/kaggle/input/face3recog/Dataset/Train/Aakash/Aakash-24.jpg\n",
      "/kaggle/input/face3recog/Dataset/Train/Aakash/Aakash-74.jpg\n",
      "/kaggle/input/face3recog/Dataset/Train/Aakash/Aakash-8.jpg\n",
      "/kaggle/input/face3recog/Dataset/Train/Aakash/Aakash-27.jpg\n",
      "/kaggle/input/face3recog/Dataset/Train/Aakash/Aakash-95.jpg\n",
      "/kaggle/input/face3recog/Dataset/Train/Aakash/Aakash-43.jpg\n",
      "/kaggle/input/face3recog/Dataset/Train/Aakash/Aakash-18.jpg\n",
      "/kaggle/input/face3recog/Dataset/Train/Aakash/Aakash-69.jpg\n",
      "/kaggle/input/face3recog/Dataset/Train/Aakash/Aakash-5.jpg\n",
      "/kaggle/input/face3recog/Dataset/Train/Aakash/Aakash-6.jpg\n",
      "/kaggle/input/face3recog/Dataset/Train/Aakash/Aakash-26.jpg\n",
      "/kaggle/input/face3recog/Dataset/Train/Aakash/Aakash-39.jpg\n",
      "/kaggle/input/face3recog/Dataset/Train/Aakash/Aakash-17.jpg\n",
      "/kaggle/input/face3recog/Dataset/Train/Aakash/Aakash-9.jpg\n",
      "/kaggle/input/face3recog/Dataset/Train/Aakash/Aakash-94.jpg\n",
      "/kaggle/input/face3recog/Dataset/Train/Aakash/Aakash-31.jpg\n",
      "/kaggle/input/face3recog/Dataset/Train/Aakash/Aakash-48.jpg\n",
      "/kaggle/input/face3recog/Dataset/Train/Aakash/Aakash-86.jpg\n",
      "/kaggle/input/face3recog/Dataset/Train/Aakash/Aakash-71.jpg\n",
      "/kaggle/input/face3recog/Dataset/Train/Aakash/Aakash-57.jpg\n",
      "/kaggle/input/face3recog/Dataset/Train/Aakash/Aakash-13.jpg\n",
      "/kaggle/input/face3recog/Dataset/Train/Aakash/Aakash-81.jpg\n",
      "/kaggle/input/face3recog/Dataset/Train/Aakash/Aakash-10.jpg\n",
      "/kaggle/input/face3recog/Dataset/Train/Aakash/Aakash-98.jpg\n",
      "/kaggle/input/face3recog/Dataset/Train/Aakash/Aakash-80.jpg\n",
      "/kaggle/input/face3recog/Dataset/Train/Aakash/Aakash-97.jpg\n",
      "/kaggle/input/face3recog/Dataset/Train/Aakash/Aakash-47.jpg\n",
      "/kaggle/input/face3recog/Dataset/Train/Aakash/Aakash-59.jpg\n",
      "/kaggle/input/face3recog/Dataset/Train/Aakash/Aakash-91.jpg\n",
      "/kaggle/input/face3recog/Dataset/Train/Aakash/Aakash-51.jpg\n",
      "/kaggle/input/face3recog/Dataset/Train/Aakash/Aakash-77.jpg\n",
      "/kaggle/input/face3recog/Dataset/Train/Aakash/Aakash-84.jpg\n",
      "/kaggle/input/face3recog/Dataset/Train/Aakash/Aakash-58.jpg\n",
      "/kaggle/input/face3recog/Dataset/Train/Aakash/Aakash-40.jpg\n",
      "/kaggle/input/face3recog/Dataset/Train/Aakash/Aakash-100.jpg\n",
      "/kaggle/input/face3recog/Dataset/Train/Aakash/Aakash-49.jpg\n",
      "/kaggle/input/face3recog/Dataset/Train/Aakash/Aakash-45.jpg\n",
      "/kaggle/input/face3recog/Dataset/Train/Aakash/Aakash-63.jpg\n",
      "/kaggle/input/face3recog/Dataset/Train/Aakash/Aakash-90.jpg\n",
      "/kaggle/input/face3recog/Dataset/Train/Aakash/Aakash-93.jpg\n",
      "/kaggle/input/face3recog/Dataset/Train/Aakash/Aakash-99.jpg\n",
      "/kaggle/input/face3recog/Dataset/Train/Aakash/Aakash-30.jpg\n",
      "/kaggle/input/face3recog/Dataset/Train/Aakash/Aakash-23.jpg\n",
      "/kaggle/input/face3recog/Dataset/Train/Aakash/Aakash-32.jpg\n",
      "/kaggle/input/face3recog/Dataset/Train/Aakash/Aakash-76.jpg\n",
      "/kaggle/input/face3recog/Dataset/Train/Aakash/Aakash-7.jpg\n",
      "/kaggle/input/face3recog/Dataset/Train/Aakash/Aakash-68.jpg\n",
      "/kaggle/input/face3recog/Dataset/Train/Aakash/Aakash-53.jpg\n",
      "/kaggle/input/face3recog/Dataset/Train/Aakash/Aakash-14.jpg\n",
      "/kaggle/input/face3recog/Dataset/Train/Aakash/Aakash-92.jpg\n",
      "/kaggle/input/face3recog/Dataset/Train/Aakash/Aakash-15.jpg\n",
      "/kaggle/input/face3recog/Dataset/Train/Aakash/Aakash-73.jpg\n",
      "/kaggle/input/face3recog/Dataset/Train/Aakash/Aakash-78.jpg\n",
      "/kaggle/input/face3recog/Dataset/Train/Aakash/Aakash-44.jpg\n",
      "/kaggle/input/face3recog/Dataset/Train/Aakash/Aakash-65.jpg\n",
      "/kaggle/input/face3recog/Dataset/Train/Aakash/Aakash-37.jpg\n",
      "/kaggle/input/face3recog/Dataset/Train/Aakash/Aakash-3.jpg\n",
      "/kaggle/input/face3recog/Dataset/Train/Raghava/Raghava-93.jpg\n",
      "/kaggle/input/face3recog/Dataset/Train/Raghava/Raghava-29.jpg\n",
      "/kaggle/input/face3recog/Dataset/Train/Raghava/Raghava-90.jpg\n",
      "/kaggle/input/face3recog/Dataset/Train/Raghava/Raghava-11.jpg\n",
      "/kaggle/input/face3recog/Dataset/Train/Raghava/Raghava-77.jpg\n",
      "/kaggle/input/face3recog/Dataset/Train/Raghava/Raghava-87.jpg\n",
      "/kaggle/input/face3recog/Dataset/Train/Raghava/Raghava-100.jpg\n",
      "/kaggle/input/face3recog/Dataset/Train/Raghava/Raghava-96.jpg\n",
      "/kaggle/input/face3recog/Dataset/Train/Raghava/Raghava-39.jpg\n",
      "/kaggle/input/face3recog/Dataset/Train/Raghava/Raghava-91.jpg\n",
      "/kaggle/input/face3recog/Dataset/Train/Raghava/Raghava-18.jpg\n",
      "/kaggle/input/face3recog/Dataset/Train/Raghava/Raghava-6.jpg\n",
      "/kaggle/input/face3recog/Dataset/Train/Raghava/Raghava-32.jpg\n",
      "/kaggle/input/face3recog/Dataset/Train/Raghava/Raghava-82.jpg\n",
      "/kaggle/input/face3recog/Dataset/Train/Raghava/Raghava-86.jpg\n",
      "/kaggle/input/face3recog/Dataset/Train/Raghava/Raghava-37.jpg\n",
      "/kaggle/input/face3recog/Dataset/Train/Raghava/Raghava-23.jpg\n",
      "/kaggle/input/face3recog/Dataset/Train/Raghava/Raghava-27.jpg\n",
      "/kaggle/input/face3recog/Dataset/Train/Raghava/Raghava-47.jpg\n",
      "/kaggle/input/face3recog/Dataset/Train/Raghava/Raghava-49.jpg\n",
      "/kaggle/input/face3recog/Dataset/Train/Raghava/Raghava-9.jpg\n",
      "/kaggle/input/face3recog/Dataset/Train/Raghava/Raghava-12.jpg\n",
      "/kaggle/input/face3recog/Dataset/Train/Raghava/Raghava-7.jpg\n",
      "/kaggle/input/face3recog/Dataset/Train/Raghava/Raghava-85.jpg\n",
      "/kaggle/input/face3recog/Dataset/Train/Raghava/Raghava-28.jpg\n",
      "/kaggle/input/face3recog/Dataset/Train/Raghava/Raghava-4.jpg\n",
      "/kaggle/input/face3recog/Dataset/Train/Raghava/Raghava-55.jpg\n",
      "/kaggle/input/face3recog/Dataset/Train/Raghava/Raghava-13.jpg\n",
      "/kaggle/input/face3recog/Dataset/Train/Raghava/Raghava-10.jpg\n",
      "/kaggle/input/face3recog/Dataset/Train/Raghava/Raghava-2.jpg\n",
      "/kaggle/input/face3recog/Dataset/Train/Raghava/Raghava-46.jpg\n",
      "/kaggle/input/face3recog/Dataset/Train/Raghava/Raghava-45.jpg\n",
      "/kaggle/input/face3recog/Dataset/Train/Raghava/Raghava-16.jpg\n",
      "/kaggle/input/face3recog/Dataset/Train/Raghava/Raghava-84.jpg\n",
      "/kaggle/input/face3recog/Dataset/Train/Raghava/Raghava-52.jpg\n",
      "/kaggle/input/face3recog/Dataset/Train/Raghava/Raghava-42.jpg\n",
      "/kaggle/input/face3recog/Dataset/Train/Raghava/Raghava-24.jpg\n",
      "/kaggle/input/face3recog/Dataset/Train/Raghava/Raghava-74.jpg\n",
      "/kaggle/input/face3recog/Dataset/Train/Raghava/Raghava-92.jpg\n",
      "/kaggle/input/face3recog/Dataset/Train/Raghava/Raghava-51.jpg\n",
      "/kaggle/input/face3recog/Dataset/Train/Raghava/Raghava-43.jpg\n",
      "/kaggle/input/face3recog/Dataset/Train/Raghava/Raghava-26.jpg\n",
      "/kaggle/input/face3recog/Dataset/Train/Raghava/Raghava-61.jpg\n",
      "/kaggle/input/face3recog/Dataset/Train/Raghava/Raghava-62.jpg\n",
      "/kaggle/input/face3recog/Dataset/Train/Raghava/Raghava-75.jpg\n",
      "/kaggle/input/face3recog/Dataset/Train/Raghava/Raghava-63.jpg\n",
      "/kaggle/input/face3recog/Dataset/Train/Raghava/Raghava-50.jpg\n",
      "/kaggle/input/face3recog/Dataset/Train/Raghava/Raghava-36.jpg\n",
      "/kaggle/input/face3recog/Dataset/Train/Raghava/Raghava-44.jpg\n",
      "/kaggle/input/face3recog/Dataset/Train/Raghava/Raghava-15.jpg\n",
      "/kaggle/input/face3recog/Dataset/Train/Raghava/Raghava-88.jpg\n",
      "/kaggle/input/face3recog/Dataset/Train/Raghava/Raghava-69.jpg\n",
      "/kaggle/input/face3recog/Dataset/Train/Raghava/Raghava-65.jpg\n",
      "/kaggle/input/face3recog/Dataset/Train/Raghava/Raghava-66.jpg\n",
      "/kaggle/input/face3recog/Dataset/Train/Raghava/Raghava-33.jpg\n",
      "/kaggle/input/face3recog/Dataset/Train/Raghava/Raghava-64.jpg\n",
      "/kaggle/input/face3recog/Dataset/Train/Raghava/Raghava-35.jpg\n",
      "/kaggle/input/face3recog/Dataset/Train/Raghava/Raghava-79.jpg\n",
      "/kaggle/input/face3recog/Dataset/Train/Raghava/Raghava-57.jpg\n",
      "/kaggle/input/face3recog/Dataset/Train/Raghava/Raghava-67.jpg\n",
      "/kaggle/input/face3recog/Dataset/Train/Raghava/Raghava-94.jpg\n",
      "/kaggle/input/face3recog/Dataset/Train/Raghava/Raghava-53.jpg\n",
      "/kaggle/input/face3recog/Dataset/Train/Raghava/Raghava-3.jpg\n",
      "/kaggle/input/face3recog/Dataset/Train/Raghava/Raghava-40.jpg\n",
      "/kaggle/input/face3recog/Dataset/Train/Raghava/Raghava-58.jpg\n",
      "/kaggle/input/face3recog/Dataset/Train/Raghava/Raghava-70.jpg\n",
      "/kaggle/input/face3recog/Dataset/Train/Raghava/Raghava-20.jpg\n",
      "/kaggle/input/face3recog/Dataset/Train/Raghava/Raghava-38.jpg\n",
      "/kaggle/input/face3recog/Dataset/Train/Raghava/Raghava-25.jpg\n",
      "/kaggle/input/face3recog/Dataset/Train/Raghava/Raghava-68.jpg\n",
      "/kaggle/input/face3recog/Dataset/Train/Raghava/Raghava-97.jpg\n",
      "/kaggle/input/face3recog/Dataset/Train/Raghava/Raghava-5.jpg\n",
      "/kaggle/input/face3recog/Dataset/Train/Raghava/Raghava-31.jpg\n",
      "/kaggle/input/face3recog/Dataset/Train/Raghava/Raghava-17.jpg\n",
      "/kaggle/input/face3recog/Dataset/Train/Raghava/Raghava-30.jpg\n",
      "/kaggle/input/face3recog/Dataset/Train/Raghava/Raghava-22.jpg\n",
      "/kaggle/input/face3recog/Dataset/Train/Raghava/Raghava-41.jpg\n",
      "/kaggle/input/face3recog/Dataset/Train/Raghava/Raghava-21.jpg\n",
      "/kaggle/input/face3recog/Dataset/Train/Raghava/Raghava-8.jpg\n",
      "/kaggle/input/face3recog/Dataset/Train/Raghava/Raghava-71.jpg\n",
      "/kaggle/input/face3recog/Dataset/Train/Raghava/Raghava-98.jpg\n",
      "/kaggle/input/face3recog/Dataset/Train/Raghava/Raghava-54.jpg\n",
      "/kaggle/input/face3recog/Dataset/Train/Raghava/Raghava-76.jpg\n",
      "/kaggle/input/face3recog/Dataset/Train/Raghava/Raghava-59.jpg\n",
      "/kaggle/input/face3recog/Dataset/Train/Raghava/Raghava-80.jpg\n",
      "/kaggle/input/face3recog/Dataset/Train/Raghava/Raghava-48.jpg\n",
      "/kaggle/input/face3recog/Dataset/Train/Raghava/Raghava-72.jpg\n",
      "/kaggle/input/face3recog/Dataset/Train/Raghava/Raghava-89.jpg\n",
      "/kaggle/input/face3recog/Dataset/Train/Raghava/Raghava-81.jpg\n",
      "/kaggle/input/face3recog/Dataset/Train/Raghava/Raghava-95.jpg\n",
      "/kaggle/input/face3recog/Dataset/Train/Raghava/Raghava-73.jpg\n",
      "/kaggle/input/face3recog/Dataset/Train/Raghava/Raghava-19.jpg\n",
      "/kaggle/input/face3recog/Dataset/Train/Raghava/Raghava-60.jpg\n",
      "/kaggle/input/face3recog/Dataset/Train/Raghava/Raghava-78.jpg\n",
      "/kaggle/input/face3recog/Dataset/Train/Raghava/Raghava-34.jpg\n",
      "/kaggle/input/face3recog/Dataset/Train/Raghava/Raghava-14.jpg\n",
      "/kaggle/input/face3recog/Dataset/Train/Raghava/Raghava-56.jpg\n",
      "/kaggle/input/face3recog/Dataset/Train/Raghava/Raghava-1.jpg\n",
      "/kaggle/input/face3recog/Dataset/Train/Raghava/Raghava-99.jpg\n",
      "/kaggle/input/face3recog/Dataset/Train/Raghava/Raghava-83.jpg\n"
     ]
    }
   ],
   "source": [
    "# This Python 3 environment comes with many helpful analytics libraries installed\n",
    "# It is defined by the kaggle/python Docker image: https://github.com/kaggle/docker-python\n",
    "# For example, here's several helpful packages to load\n",
    "\n",
    "import numpy as np # linear algebra\n",
    "import pandas as pd # data processing, CSV file I/O (e.g. pd.read_csv)\n",
    "\n",
    "# Input data files are available in the read-only \"../input/\" directory\n",
    "# For example, running this (by clicking run or pressing Shift+Enter) will list all files under the input directory\n",
    "\n",
    "import os\n",
    "for dirname, _, filenames in os.walk('/kaggle/input'):\n",
    "    for filename in filenames:\n",
    "        print(os.path.join(dirname, filename))\n",
    "\n",
    "# You can write up to 5GB to the current directory (/kaggle/working/) that gets preserved as output when you create a version using \"Save & Run All\" \n",
    "# You can also write temporary files to /kaggle/temp/, but they won't be saved outside of the current session"
   ]
  },
  {
   "cell_type": "code",
   "execution_count": 2,
   "metadata": {
    "_cell_guid": "79c7e3d0-c299-4dcb-8224-4455121ee9b0",
    "_uuid": "d629ff2d2480ee46fbb7e2d37f6b5fab8052498a",
    "execution": {
     "iopub.execute_input": "2020-08-10T16:50:35.828971Z",
     "iopub.status.busy": "2020-08-10T16:50:35.827976Z",
     "iopub.status.idle": "2020-08-10T16:50:40.596614Z",
     "shell.execute_reply": "2020-08-10T16:50:40.595867Z"
    },
    "papermill": {
     "duration": 4.787435,
     "end_time": "2020-08-10T16:50:40.596755",
     "exception": false,
     "start_time": "2020-08-10T16:50:35.809320",
     "status": "completed"
    },
    "tags": []
   },
   "outputs": [],
   "source": [
    "from keras.layers import Input,Lambda,Dense,Flatten\n",
    "from keras.models import Model\n",
    "from keras.applications.vgg16 import VGG16\n",
    "from keras.applications.vgg16 import preprocess_input\n",
    "from keras.preprocessing import image\n",
    "from keras.preprocessing.image import ImageDataGenerator\n",
    "from keras.models import Sequential\n",
    "import numpy as np\n",
    "from glob import glob\n",
    "import matplotlib.pyplot as plt"
   ]
  },
  {
   "cell_type": "code",
   "execution_count": 3,
   "metadata": {
    "execution": {
     "iopub.execute_input": "2020-08-10T16:50:40.630426Z",
     "iopub.status.busy": "2020-08-10T16:50:40.628758Z",
     "iopub.status.idle": "2020-08-10T16:50:40.631145Z",
     "shell.execute_reply": "2020-08-10T16:50:40.631674Z"
    },
    "papermill": {
     "duration": 0.021585,
     "end_time": "2020-08-10T16:50:40.631827",
     "exception": false,
     "start_time": "2020-08-10T16:50:40.610242",
     "status": "completed"
    },
    "tags": []
   },
   "outputs": [],
   "source": [
    "IMAGE_SIZE = [224,224] # Lets us set the image size as 224X224\n",
    "train_path = \"../input/face3recog/Dataset/Train\"\n",
    "test_path = \"../input/face3recog/Dataset/Test\""
   ]
  },
  {
   "cell_type": "code",
   "execution_count": 4,
   "metadata": {
    "execution": {
     "iopub.execute_input": "2020-08-10T16:50:40.663824Z",
     "iopub.status.busy": "2020-08-10T16:50:40.663111Z",
     "iopub.status.idle": "2020-08-10T16:50:45.294455Z",
     "shell.execute_reply": "2020-08-10T16:50:45.293073Z"
    },
    "papermill": {
     "duration": 4.649608,
     "end_time": "2020-08-10T16:50:45.294644",
     "exception": false,
     "start_time": "2020-08-10T16:50:40.645036",
     "status": "completed"
    },
    "tags": []
   },
   "outputs": [
    {
     "name": "stdout",
     "output_type": "stream",
     "text": [
      "Downloading data from https://storage.googleapis.com/tensorflow/keras-applications/vgg16/vgg16_weights_tf_dim_ordering_tf_kernels_notop.h5\n",
      "58892288/58889256 [==============================] - 0s 0us/step\n"
     ]
    }
   ],
   "source": [
    "vgg = VGG16(input_shape=IMAGE_SIZE+[3],weights='imagenet',include_top=False)"
   ]
  },
  {
   "cell_type": "code",
   "execution_count": 5,
   "metadata": {
    "execution": {
     "iopub.execute_input": "2020-08-10T16:50:45.337230Z",
     "iopub.status.busy": "2020-08-10T16:50:45.336333Z",
     "iopub.status.idle": "2020-08-10T16:50:45.341886Z",
     "shell.execute_reply": "2020-08-10T16:50:45.341176Z"
    },
    "papermill": {
     "duration": 0.02872,
     "end_time": "2020-08-10T16:50:45.341999",
     "exception": false,
     "start_time": "2020-08-10T16:50:45.313279",
     "status": "completed"
    },
    "tags": []
   },
   "outputs": [],
   "source": [
    "for layers in vgg.layers:\n",
    "    layers.trainable = False\n",
    "    \n",
    "folder = glob('../input/face3recog/Dataset/Train/*')"
   ]
  },
  {
   "cell_type": "code",
   "execution_count": 6,
   "metadata": {
    "execution": {
     "iopub.execute_input": "2020-08-10T16:50:45.382245Z",
     "iopub.status.busy": "2020-08-10T16:50:45.381536Z",
     "iopub.status.idle": "2020-08-10T16:50:45.386469Z",
     "shell.execute_reply": "2020-08-10T16:50:45.385960Z"
    },
    "papermill": {
     "duration": 0.026718,
     "end_time": "2020-08-10T16:50:45.386604",
     "exception": false,
     "start_time": "2020-08-10T16:50:45.359886",
     "status": "completed"
    },
    "tags": []
   },
   "outputs": [
    {
     "name": "stdout",
     "output_type": "stream",
     "text": [
      "3\n"
     ]
    }
   ],
   "source": [
    "print(len(folder))"
   ]
  },
  {
   "cell_type": "code",
   "execution_count": 7,
   "metadata": {
    "execution": {
     "iopub.execute_input": "2020-08-10T16:50:45.431461Z",
     "iopub.status.busy": "2020-08-10T16:50:45.430846Z",
     "iopub.status.idle": "2020-08-10T16:50:45.437207Z",
     "shell.execute_reply": "2020-08-10T16:50:45.437684Z"
    },
    "papermill": {
     "duration": 0.031901,
     "end_time": "2020-08-10T16:50:45.437835",
     "exception": false,
     "start_time": "2020-08-10T16:50:45.405934",
     "status": "completed"
    },
    "tags": []
   },
   "outputs": [],
   "source": [
    "x = Flatten()(vgg.output)"
   ]
  },
  {
   "cell_type": "code",
   "execution_count": 8,
   "metadata": {
    "execution": {
     "iopub.execute_input": "2020-08-10T16:50:45.481667Z",
     "iopub.status.busy": "2020-08-10T16:50:45.480587Z",
     "iopub.status.idle": "2020-08-10T16:50:45.493076Z",
     "shell.execute_reply": "2020-08-10T16:50:45.492327Z"
    },
    "papermill": {
     "duration": 0.037604,
     "end_time": "2020-08-10T16:50:45.493189",
     "exception": false,
     "start_time": "2020-08-10T16:50:45.455585",
     "status": "completed"
    },
    "tags": []
   },
   "outputs": [],
   "source": [
    "prediction = Dense(len(folder),activation='softmax')(x)\n"
   ]
  },
  {
   "cell_type": "code",
   "execution_count": 9,
   "metadata": {
    "execution": {
     "iopub.execute_input": "2020-08-10T16:50:45.542682Z",
     "iopub.status.busy": "2020-08-10T16:50:45.540052Z",
     "iopub.status.idle": "2020-08-10T16:50:45.554049Z",
     "shell.execute_reply": "2020-08-10T16:50:45.555040Z"
    },
    "papermill": {
     "duration": 0.043785,
     "end_time": "2020-08-10T16:50:45.555243",
     "exception": false,
     "start_time": "2020-08-10T16:50:45.511458",
     "status": "completed"
    },
    "tags": []
   },
   "outputs": [
    {
     "name": "stdout",
     "output_type": "stream",
     "text": [
      "Model: \"model\"\n",
      "_________________________________________________________________\n",
      "Layer (type)                 Output Shape              Param #   \n",
      "=================================================================\n",
      "input_1 (InputLayer)         [(None, 224, 224, 3)]     0         \n",
      "_________________________________________________________________\n",
      "block1_conv1 (Conv2D)        (None, 224, 224, 64)      1792      \n",
      "_________________________________________________________________\n",
      "block1_conv2 (Conv2D)        (None, 224, 224, 64)      36928     \n",
      "_________________________________________________________________\n",
      "block1_pool (MaxPooling2D)   (None, 112, 112, 64)      0         \n",
      "_________________________________________________________________\n",
      "block2_conv1 (Conv2D)        (None, 112, 112, 128)     73856     \n",
      "_________________________________________________________________\n",
      "block2_conv2 (Conv2D)        (None, 112, 112, 128)     147584    \n",
      "_________________________________________________________________\n",
      "block2_pool (MaxPooling2D)   (None, 56, 56, 128)       0         \n",
      "_________________________________________________________________\n",
      "block3_conv1 (Conv2D)        (None, 56, 56, 256)       295168    \n",
      "_________________________________________________________________\n",
      "block3_conv2 (Conv2D)        (None, 56, 56, 256)       590080    \n",
      "_________________________________________________________________\n",
      "block3_conv3 (Conv2D)        (None, 56, 56, 256)       590080    \n",
      "_________________________________________________________________\n",
      "block3_pool (MaxPooling2D)   (None, 28, 28, 256)       0         \n",
      "_________________________________________________________________\n",
      "block4_conv1 (Conv2D)        (None, 28, 28, 512)       1180160   \n",
      "_________________________________________________________________\n",
      "block4_conv2 (Conv2D)        (None, 28, 28, 512)       2359808   \n",
      "_________________________________________________________________\n",
      "block4_conv3 (Conv2D)        (None, 28, 28, 512)       2359808   \n",
      "_________________________________________________________________\n",
      "block4_pool (MaxPooling2D)   (None, 14, 14, 512)       0         \n",
      "_________________________________________________________________\n",
      "block5_conv1 (Conv2D)        (None, 14, 14, 512)       2359808   \n",
      "_________________________________________________________________\n",
      "block5_conv2 (Conv2D)        (None, 14, 14, 512)       2359808   \n",
      "_________________________________________________________________\n",
      "block5_conv3 (Conv2D)        (None, 14, 14, 512)       2359808   \n",
      "_________________________________________________________________\n",
      "block5_pool (MaxPooling2D)   (None, 7, 7, 512)         0         \n",
      "_________________________________________________________________\n",
      "flatten (Flatten)            (None, 25088)             0         \n",
      "_________________________________________________________________\n",
      "dense (Dense)                (None, 3)                 75267     \n",
      "=================================================================\n",
      "Total params: 14,789,955\n",
      "Trainable params: 75,267\n",
      "Non-trainable params: 14,714,688\n",
      "_________________________________________________________________\n"
     ]
    }
   ],
   "source": [
    "model = Model(inputs=vgg.input,outputs=prediction)\n",
    "\n",
    "model.summary()"
   ]
  },
  {
   "cell_type": "code",
   "execution_count": 10,
   "metadata": {
    "execution": {
     "iopub.execute_input": "2020-08-10T16:50:45.609797Z",
     "iopub.status.busy": "2020-08-10T16:50:45.608625Z",
     "iopub.status.idle": "2020-08-10T16:50:45.614953Z",
     "shell.execute_reply": "2020-08-10T16:50:45.615454Z"
    },
    "papermill": {
     "duration": 0.039806,
     "end_time": "2020-08-10T16:50:45.615635",
     "exception": false,
     "start_time": "2020-08-10T16:50:45.575829",
     "status": "completed"
    },
    "tags": []
   },
   "outputs": [],
   "source": [
    "model.compile(loss='categorical_crossentropy',\n",
    "              optimizer='adam',\n",
    "              metrics=['accuracy']\n",
    "                )"
   ]
  },
  {
   "cell_type": "code",
   "execution_count": 11,
   "metadata": {
    "execution": {
     "iopub.execute_input": "2020-08-10T16:50:45.661928Z",
     "iopub.status.busy": "2020-08-10T16:50:45.661188Z",
     "iopub.status.idle": "2020-08-10T16:50:45.872135Z",
     "shell.execute_reply": "2020-08-10T16:50:45.872966Z"
    },
    "papermill": {
     "duration": 0.237664,
     "end_time": "2020-08-10T16:50:45.873184",
     "exception": false,
     "start_time": "2020-08-10T16:50:45.635520",
     "status": "completed"
    },
    "tags": []
   },
   "outputs": [
    {
     "name": "stdout",
     "output_type": "stream",
     "text": [
      "Found 300 images belonging to 3 classes.\n",
      "Found 90 images belonging to 3 classes.\n"
     ]
    }
   ],
   "source": [
    "train_datagen = ImageDataGenerator(rescale=1./255,shear_range=0.2,\n",
    "                                   zoom_range=0.2,horizontal_flip=True)\n",
    "test_datagen = ImageDataGenerator(rescale=1./255)\n",
    "\n",
    "training_set = train_datagen.flow_from_directory(train_path,\n",
    "                                                target_size=(224,224),\n",
    "                                                batch_size=32,\n",
    "                                                class_mode='categorical')\n",
    "test_set = test_datagen.flow_from_directory(test_path,\n",
    "                                                target_size=(224,224),\n",
    "                                                batch_size=32,\n",
    "                                                class_mode='categorical')"
   ]
  },
  {
   "cell_type": "code",
   "execution_count": 12,
   "metadata": {
    "execution": {
     "iopub.execute_input": "2020-08-10T16:50:45.923458Z",
     "iopub.status.busy": "2020-08-10T16:50:45.922632Z",
     "iopub.status.idle": "2020-08-10T16:51:21.013202Z",
     "shell.execute_reply": "2020-08-10T16:51:21.012233Z"
    },
    "papermill": {
     "duration": 35.118666,
     "end_time": "2020-08-10T16:51:21.013327",
     "exception": false,
     "start_time": "2020-08-10T16:50:45.894661",
     "status": "completed"
    },
    "tags": []
   },
   "outputs": [
    {
     "name": "stdout",
     "output_type": "stream",
     "text": [
      "Epoch 1/20\n",
      "1/1 [==============================] - 2s 2s/step - loss: 1.4801 - accuracy: 0.3438 - val_loss: 3.0028 - val_accuracy: 0.3333\n",
      "Epoch 2/20\n",
      "1/1 [==============================] - 1s 1s/step - loss: 3.0377 - accuracy: 0.3125 - val_loss: 1.6578 - val_accuracy: 0.3333\n",
      "Epoch 3/20\n",
      "1/1 [==============================] - 1s 1s/step - loss: 1.5658 - accuracy: 0.2812 - val_loss: 1.1331 - val_accuracy: 0.3333\n",
      "Epoch 4/20\n",
      "1/1 [==============================] - 1s 900ms/step - loss: 0.9480 - accuracy: 0.3750 - val_loss: 1.1453 - val_accuracy: 0.6667\n",
      "Epoch 5/20\n",
      "1/1 [==============================] - 1s 876ms/step - loss: 1.0700 - accuracy: 0.6250 - val_loss: 1.1969 - val_accuracy: 0.6667\n",
      "Epoch 6/20\n",
      "1/1 [==============================] - 1s 890ms/step - loss: 1.5213 - accuracy: 0.5625 - val_loss: 0.9088 - val_accuracy: 0.6667\n",
      "Epoch 7/20\n",
      "1/1 [==============================] - 1s 903ms/step - loss: 0.7098 - accuracy: 0.6875 - val_loss: 0.5038 - val_accuracy: 0.6667\n",
      "Epoch 8/20\n",
      "1/1 [==============================] - 1s 873ms/step - loss: 0.4614 - accuracy: 0.8125 - val_loss: 0.3084 - val_accuracy: 1.0000\n",
      "Epoch 9/20\n",
      "1/1 [==============================] - 1s 1s/step - loss: 0.0797 - accuracy: 1.0000 - val_loss: 0.5023 - val_accuracy: 0.6667\n",
      "Epoch 10/20\n",
      "1/1 [==============================] - 1s 863ms/step - loss: 0.2426 - accuracy: 0.9375 - val_loss: 0.7469 - val_accuracy: 0.6556\n",
      "Epoch 11/20\n",
      "1/1 [==============================] - 1s 856ms/step - loss: 0.2480 - accuracy: 0.9062 - val_loss: 0.8735 - val_accuracy: 0.6556\n",
      "Epoch 12/20\n",
      "1/1 [==============================] - 1s 657ms/step - loss: 0.5085 - accuracy: 0.7500 - val_loss: 0.7298 - val_accuracy: 0.6556\n",
      "Epoch 13/20\n",
      "1/1 [==============================] - 1s 861ms/step - loss: 0.3592 - accuracy: 0.8125 - val_loss: 0.4705 - val_accuracy: 0.6778\n",
      "Epoch 14/20\n",
      "1/1 [==============================] - 1s 909ms/step - loss: 0.0597 - accuracy: 1.0000 - val_loss: 0.2994 - val_accuracy: 0.9000\n",
      "Epoch 15/20\n",
      "1/1 [==============================] - 1s 948ms/step - loss: 0.1228 - accuracy: 0.9688 - val_loss: 0.2156 - val_accuracy: 1.0000\n",
      "Epoch 16/20\n",
      "1/1 [==============================] - 1s 893ms/step - loss: 0.0412 - accuracy: 1.0000 - val_loss: 0.2146 - val_accuracy: 0.9444\n",
      "Epoch 17/20\n",
      "1/1 [==============================] - 1s 1s/step - loss: 0.0253 - accuracy: 1.0000 - val_loss: 0.2668 - val_accuracy: 0.8333\n",
      "Epoch 18/20\n",
      "1/1 [==============================] - 1s 905ms/step - loss: 0.0125 - accuracy: 1.0000 - val_loss: 0.3519 - val_accuracy: 0.8222\n",
      "Epoch 19/20\n",
      "1/1 [==============================] - 1s 898ms/step - loss: 0.0130 - accuracy: 1.0000 - val_loss: 0.4559 - val_accuracy: 0.8000\n",
      "Epoch 20/20\n",
      "1/1 [==============================] - 1s 1s/step - loss: 0.1257 - accuracy: 0.9688 - val_loss: 0.5048 - val_accuracy: 0.7333\n"
     ]
    }
   ],
   "source": [
    "history = model.fit_generator(training_set,\n",
    "                              validation_data=test_set,\n",
    "                              epochs=20,\n",
    "                              verbose=1,\n",
    "                              steps_per_epoch=len(training_set)/10,\n",
    "                              validation_steps=len(test_set))"
   ]
  },
  {
   "cell_type": "code",
   "execution_count": 13,
   "metadata": {
    "execution": {
     "iopub.execute_input": "2020-08-10T16:51:21.123228Z",
     "iopub.status.busy": "2020-08-10T16:51:21.121753Z",
     "iopub.status.idle": "2020-08-10T16:51:21.507579Z",
     "shell.execute_reply": "2020-08-10T16:51:21.508183Z"
    },
    "papermill": {
     "duration": 0.450709,
     "end_time": "2020-08-10T16:51:21.508344",
     "exception": false,
     "start_time": "2020-08-10T16:51:21.057635",
     "status": "completed"
    },
    "tags": []
   },
   "outputs": [
    {
     "data": {
      "image/png": "[encoded data removed]",
      "text/plain": [
       "<Figure size 432x288 with 1 Axes>"
      ]
     },
     "metadata": {
      "needs_background": "light"
     },
     "output_type": "display_data"
    },
    {
     "data": {
      "image/png": "[encoded data removed]",
      "text/plain": [
       "<Figure size 432x288 with 1 Axes>"
      ]
     },
     "metadata": {
      "needs_background": "light"
     },
     "output_type": "display_data"
    }
   ],
   "source": [
    "# loss\n",
    "plt.plot(history.history['loss'], label='train loss')\n",
    "plt.plot(history.history['val_loss'], label='val loss')\n",
    "plt.legend()\n",
    "plt.show()\n",
    "\n",
    "# accuracies\n",
    "plt.plot(history.history['accuracy'], label='train acc')\n",
    "plt.plot(history.history['val_accuracy'], label='val acc')\n",
    "plt.legend()\n",
    "plt.show()\n"
   ]
  },
  {
   "cell_type": "code",
   "execution_count": 14,
   "metadata": {
    "execution": {
     "iopub.execute_input": "2020-08-10T16:51:21.609777Z",
     "iopub.status.busy": "2020-08-10T16:51:21.608752Z",
     "iopub.status.idle": "2020-08-10T16:51:21.712841Z",
     "shell.execute_reply": "2020-08-10T16:51:21.711597Z"
    },
    "papermill": {
     "duration": 0.160179,
     "end_time": "2020-08-10T16:51:21.712982",
     "exception": false,
     "start_time": "2020-08-10T16:51:21.552803",
     "status": "completed"
    },
    "tags": []
   },
   "outputs": [],
   "source": [
    "model.save(\"My-recognition-model.h5\")"
   ]
  },
  {
   "cell_type": "markdown",
   "metadata": {},
   "source": [
    "# Now lets us predict the model "
   ]
  },
  {
   "cell_type": "code",
   "execution_count": 1,
   "metadata": {},
   "outputs": [],
   "source": [
    "from tensorflow.keras.preprocessing.image import load_img\n",
    "from tensorflow.keras.preprocessing.image import img_to_array\n",
    "from tensorflow.keras.models import load_model\n",
    "\n",
    "def load_image(filename):\n",
    "    img = load_img(filename, target_size=(224, 224))\n",
    "    img = img_to_array(img)\n",
    "    img = img.reshape(1, 224, 224, 3)\n",
    "    img = img.astype('float32')\n",
    "    return img\n",
    "\n",
    "def run_example(path):\n",
    "    img = load_image(path)\n",
    "    # load model\n",
    "    model = load_model('My-recognition-model.h5')\n",
    "    # predict the class\n",
    "    result = model.predict(img)\n",
    "    print(result[0])"
   ]
  },
  {
   "cell_type": "code",
   "execution_count": 5,
   "metadata": {},
   "outputs": [
    {
     "data": {
      "text/plain": [
       "'2.2.0'"
      ]
     },
     "execution_count": 5,
     "metadata": {},
     "output_type": "execute_result"
    }
   ],
   "source": [
    "tf.__version__"
   ]
  },
  {
   "cell_type": "code",
   "execution_count": 4,
   "metadata": {},
   "outputs": [
    {
     "ename": "UnknownError",
     "evalue": " Failed to get convolution algorithm. This is probably because cuDNN failed to initialize, so try looking to see if a warning log message was printed above.\n\t [[node model/block1_conv1/Conv2D (defined at <ipython-input-1-942fefccfa31>:17) ]] [Op:__inference_predict_function_1339]\n\nFunction call stack:\npredict_function\n",
     "output_type": "error",
     "traceback": [
      "\u001b[1;31m---------------------------------------------------------------------------\u001b[0m",
      "\u001b[1;31mUnknownError\u001b[0m                              Traceback (most recent call last)",
      "\u001b[1;32m<ipython-input-4-f1e1394eb0f0>\u001b[0m in \u001b[0;36m<module>\u001b[1;34m\u001b[0m\n\u001b[0;32m      3\u001b[0m \u001b[0mtf\u001b[0m\u001b[1;33m.\u001b[0m\u001b[0mkeras\u001b[0m\u001b[1;33m.\u001b[0m\u001b[0mbackend\u001b[0m\u001b[1;33m.\u001b[0m\u001b[0mclear_session\u001b[0m\u001b[1;33m(\u001b[0m\u001b[1;33m)\u001b[0m\u001b[1;33m\u001b[0m\u001b[1;33m\u001b[0m\u001b[0m\n\u001b[0;32m      4\u001b[0m \u001b[1;33m\u001b[0m\u001b[0m\n\u001b[1;32m----> 5\u001b[1;33m \u001b[0mrun_example\u001b[0m\u001b[1;33m(\u001b[0m\u001b[1;34m'Dataset/Aakash_validation-1.jpg'\u001b[0m\u001b[1;33m)\u001b[0m\u001b[1;33m\u001b[0m\u001b[1;33m\u001b[0m\u001b[0m\n\u001b[0m",
      "\u001b[1;32m<ipython-input-1-942fefccfa31>\u001b[0m in \u001b[0;36mrun_example\u001b[1;34m(path)\u001b[0m\n\u001b[0;32m     15\u001b[0m     \u001b[0mmodel\u001b[0m \u001b[1;33m=\u001b[0m \u001b[0mload_model\u001b[0m\u001b[1;33m(\u001b[0m\u001b[1;34m'My-recognition-model.h5'\u001b[0m\u001b[1;33m)\u001b[0m\u001b[1;33m\u001b[0m\u001b[1;33m\u001b[0m\u001b[0m\n\u001b[0;32m     16\u001b[0m     \u001b[1;31m# predict the class\u001b[0m\u001b[1;33m\u001b[0m\u001b[1;33m\u001b[0m\u001b[1;33m\u001b[0m\u001b[0m\n\u001b[1;32m---> 17\u001b[1;33m     \u001b[0mresult\u001b[0m \u001b[1;33m=\u001b[0m \u001b[0mmodel\u001b[0m\u001b[1;33m.\u001b[0m\u001b[0mpredict\u001b[0m\u001b[1;33m(\u001b[0m\u001b[0mimg\u001b[0m\u001b[1;33m)\u001b[0m\u001b[1;33m\u001b[0m\u001b[1;33m\u001b[0m\u001b[0m\n\u001b[0m\u001b[0;32m     18\u001b[0m     \u001b[0mprint\u001b[0m\u001b[1;33m(\u001b[0m\u001b[0mresult\u001b[0m\u001b[1;33m[\u001b[0m\u001b[1;36m0\u001b[0m\u001b[1;33m]\u001b[0m\u001b[1;33m)\u001b[0m\u001b[1;33m\u001b[0m\u001b[1;33m\u001b[0m\u001b[0m\n",
      "\u001b[1;32mD:\\Anaconda\\lib\\site-packages\\tensorflow\\python\\keras\\engine\\training.py\u001b[0m in \u001b[0;36m_method_wrapper\u001b[1;34m(self, *args, **kwargs)\u001b[0m\n\u001b[0;32m     86\u001b[0m       raise ValueError('{} is not supported in multi-worker mode.'.format(\n\u001b[0;32m     87\u001b[0m           method.__name__))\n\u001b[1;32m---> 88\u001b[1;33m     \u001b[1;32mreturn\u001b[0m \u001b[0mmethod\u001b[0m\u001b[1;33m(\u001b[0m\u001b[0mself\u001b[0m\u001b[1;33m,\u001b[0m \u001b[1;33m*\u001b[0m\u001b[0margs\u001b[0m\u001b[1;33m,\u001b[0m \u001b[1;33m**\u001b[0m\u001b[0mkwargs\u001b[0m\u001b[1;33m)\u001b[0m\u001b[1;33m\u001b[0m\u001b[1;33m\u001b[0m\u001b[0m\n\u001b[0m\u001b[0;32m     89\u001b[0m \u001b[1;33m\u001b[0m\u001b[0m\n\u001b[0;32m     90\u001b[0m   return tf_decorator.make_decorator(\n",
      "\u001b[1;32mD:\\Anaconda\\lib\\site-packages\\tensorflow\\python\\keras\\engine\\training.py\u001b[0m in \u001b[0;36mpredict\u001b[1;34m(self, x, batch_size, verbose, steps, callbacks, max_queue_size, workers, use_multiprocessing)\u001b[0m\n\u001b[0;32m   1266\u001b[0m           \u001b[1;32mfor\u001b[0m \u001b[0mstep\u001b[0m \u001b[1;32min\u001b[0m \u001b[0mdata_handler\u001b[0m\u001b[1;33m.\u001b[0m\u001b[0msteps\u001b[0m\u001b[1;33m(\u001b[0m\u001b[1;33m)\u001b[0m\u001b[1;33m:\u001b[0m\u001b[1;33m\u001b[0m\u001b[1;33m\u001b[0m\u001b[0m\n\u001b[0;32m   1267\u001b[0m             \u001b[0mcallbacks\u001b[0m\u001b[1;33m.\u001b[0m\u001b[0mon_predict_batch_begin\u001b[0m\u001b[1;33m(\u001b[0m\u001b[0mstep\u001b[0m\u001b[1;33m)\u001b[0m\u001b[1;33m\u001b[0m\u001b[1;33m\u001b[0m\u001b[0m\n\u001b[1;32m-> 1268\u001b[1;33m             \u001b[0mtmp_batch_outputs\u001b[0m \u001b[1;33m=\u001b[0m \u001b[0mpredict_function\u001b[0m\u001b[1;33m(\u001b[0m\u001b[0miterator\u001b[0m\u001b[1;33m)\u001b[0m\u001b[1;33m\u001b[0m\u001b[1;33m\u001b[0m\u001b[0m\n\u001b[0m\u001b[0;32m   1269\u001b[0m             \u001b[1;31m# Catch OutOfRangeError for Datasets of unknown size.\u001b[0m\u001b[1;33m\u001b[0m\u001b[1;33m\u001b[0m\u001b[1;33m\u001b[0m\u001b[0m\n\u001b[0;32m   1270\u001b[0m             \u001b[1;31m# This blocks until the batch has finished executing.\u001b[0m\u001b[1;33m\u001b[0m\u001b[1;33m\u001b[0m\u001b[1;33m\u001b[0m\u001b[0m\n",
      "\u001b[1;32mD:\\Anaconda\\lib\\site-packages\\tensorflow\\python\\eager\\def_function.py\u001b[0m in \u001b[0;36m__call__\u001b[1;34m(self, *args, **kwds)\u001b[0m\n\u001b[0;32m    578\u001b[0m         \u001b[0mxla_context\u001b[0m\u001b[1;33m.\u001b[0m\u001b[0mExit\u001b[0m\u001b[1;33m(\u001b[0m\u001b[1;33m)\u001b[0m\u001b[1;33m\u001b[0m\u001b[1;33m\u001b[0m\u001b[0m\n\u001b[0;32m    579\u001b[0m     \u001b[1;32melse\u001b[0m\u001b[1;33m:\u001b[0m\u001b[1;33m\u001b[0m\u001b[1;33m\u001b[0m\u001b[0m\n\u001b[1;32m--> 580\u001b[1;33m       \u001b[0mresult\u001b[0m \u001b[1;33m=\u001b[0m \u001b[0mself\u001b[0m\u001b[1;33m.\u001b[0m\u001b[0m_call\u001b[0m\u001b[1;33m(\u001b[0m\u001b[1;33m*\u001b[0m\u001b[0margs\u001b[0m\u001b[1;33m,\u001b[0m \u001b[1;33m**\u001b[0m\u001b[0mkwds\u001b[0m\u001b[1;33m)\u001b[0m\u001b[1;33m\u001b[0m\u001b[1;33m\u001b[0m\u001b[0m\n\u001b[0m\u001b[0;32m    581\u001b[0m \u001b[1;33m\u001b[0m\u001b[0m\n\u001b[0;32m    582\u001b[0m     \u001b[1;32mif\u001b[0m \u001b[0mtracing_count\u001b[0m \u001b[1;33m==\u001b[0m \u001b[0mself\u001b[0m\u001b[1;33m.\u001b[0m\u001b[0m_get_tracing_count\u001b[0m\u001b[1;33m(\u001b[0m\u001b[1;33m)\u001b[0m\u001b[1;33m:\u001b[0m\u001b[1;33m\u001b[0m\u001b[1;33m\u001b[0m\u001b[0m\n",
      "\u001b[1;32mD:\\Anaconda\\lib\\site-packages\\tensorflow\\python\\eager\\def_function.py\u001b[0m in \u001b[0;36m_call\u001b[1;34m(self, *args, **kwds)\u001b[0m\n\u001b[0;32m    648\u001b[0m               *args, **kwds)\n\u001b[0;32m    649\u001b[0m       \u001b[1;31m# If we did not create any variables the trace we have is good enough.\u001b[0m\u001b[1;33m\u001b[0m\u001b[1;33m\u001b[0m\u001b[1;33m\u001b[0m\u001b[0m\n\u001b[1;32m--> 650\u001b[1;33m       \u001b[1;32mreturn\u001b[0m \u001b[0mself\u001b[0m\u001b[1;33m.\u001b[0m\u001b[0m_concrete_stateful_fn\u001b[0m\u001b[1;33m.\u001b[0m\u001b[0m_filtered_call\u001b[0m\u001b[1;33m(\u001b[0m\u001b[0mcanon_args\u001b[0m\u001b[1;33m,\u001b[0m \u001b[0mcanon_kwds\u001b[0m\u001b[1;33m)\u001b[0m  \u001b[1;31m# pylint: disable=protected-access\u001b[0m\u001b[1;33m\u001b[0m\u001b[1;33m\u001b[0m\u001b[0m\n\u001b[0m\u001b[0;32m    651\u001b[0m \u001b[1;33m\u001b[0m\u001b[0m\n\u001b[0;32m    652\u001b[0m     \u001b[1;32mdef\u001b[0m \u001b[0mfn_with_cond\u001b[0m\u001b[1;33m(\u001b[0m\u001b[1;33m*\u001b[0m\u001b[0minner_args\u001b[0m\u001b[1;33m,\u001b[0m \u001b[1;33m**\u001b[0m\u001b[0minner_kwds\u001b[0m\u001b[1;33m)\u001b[0m\u001b[1;33m:\u001b[0m\u001b[1;33m\u001b[0m\u001b[1;33m\u001b[0m\u001b[0m\n",
      "\u001b[1;32mD:\\Anaconda\\lib\\site-packages\\tensorflow\\python\\eager\\function.py\u001b[0m in \u001b[0;36m_filtered_call\u001b[1;34m(self, args, kwargs)\u001b[0m\n\u001b[0;32m   1663\u001b[0m          if isinstance(t, (ops.Tensor,\n\u001b[0;32m   1664\u001b[0m                            resource_variable_ops.BaseResourceVariable))),\n\u001b[1;32m-> 1665\u001b[1;33m         self.captured_inputs)\n\u001b[0m\u001b[0;32m   1666\u001b[0m \u001b[1;33m\u001b[0m\u001b[0m\n\u001b[0;32m   1667\u001b[0m   \u001b[1;32mdef\u001b[0m \u001b[0m_call_flat\u001b[0m\u001b[1;33m(\u001b[0m\u001b[0mself\u001b[0m\u001b[1;33m,\u001b[0m \u001b[0margs\u001b[0m\u001b[1;33m,\u001b[0m \u001b[0mcaptured_inputs\u001b[0m\u001b[1;33m,\u001b[0m \u001b[0mcancellation_manager\u001b[0m\u001b[1;33m=\u001b[0m\u001b[1;32mNone\u001b[0m\u001b[1;33m)\u001b[0m\u001b[1;33m:\u001b[0m\u001b[1;33m\u001b[0m\u001b[1;33m\u001b[0m\u001b[0m\n",
      "\u001b[1;32mD:\\Anaconda\\lib\\site-packages\\tensorflow\\python\\eager\\function.py\u001b[0m in \u001b[0;36m_call_flat\u001b[1;34m(self, args, captured_inputs, cancellation_manager)\u001b[0m\n\u001b[0;32m   1744\u001b[0m       \u001b[1;31m# No tape is watching; skip to running the function.\u001b[0m\u001b[1;33m\u001b[0m\u001b[1;33m\u001b[0m\u001b[1;33m\u001b[0m\u001b[0m\n\u001b[0;32m   1745\u001b[0m       return self._build_call_outputs(self._inference_function.call(\n\u001b[1;32m-> 1746\u001b[1;33m           ctx, args, cancellation_manager=cancellation_manager))\n\u001b[0m\u001b[0;32m   1747\u001b[0m     forward_backward = self._select_forward_and_backward_functions(\n\u001b[0;32m   1748\u001b[0m         \u001b[0margs\u001b[0m\u001b[1;33m,\u001b[0m\u001b[1;33m\u001b[0m\u001b[1;33m\u001b[0m\u001b[0m\n",
      "\u001b[1;32mD:\\Anaconda\\lib\\site-packages\\tensorflow\\python\\eager\\function.py\u001b[0m in \u001b[0;36mcall\u001b[1;34m(self, ctx, args, cancellation_manager)\u001b[0m\n\u001b[0;32m    596\u001b[0m               \u001b[0minputs\u001b[0m\u001b[1;33m=\u001b[0m\u001b[0margs\u001b[0m\u001b[1;33m,\u001b[0m\u001b[1;33m\u001b[0m\u001b[1;33m\u001b[0m\u001b[0m\n\u001b[0;32m    597\u001b[0m               \u001b[0mattrs\u001b[0m\u001b[1;33m=\u001b[0m\u001b[0mattrs\u001b[0m\u001b[1;33m,\u001b[0m\u001b[1;33m\u001b[0m\u001b[1;33m\u001b[0m\u001b[0m\n\u001b[1;32m--> 598\u001b[1;33m               ctx=ctx)\n\u001b[0m\u001b[0;32m    599\u001b[0m         \u001b[1;32melse\u001b[0m\u001b[1;33m:\u001b[0m\u001b[1;33m\u001b[0m\u001b[1;33m\u001b[0m\u001b[0m\n\u001b[0;32m    600\u001b[0m           outputs = execute.execute_with_cancellation(\n",
      "\u001b[1;32mD:\\Anaconda\\lib\\site-packages\\tensorflow\\python\\eager\\execute.py\u001b[0m in \u001b[0;36mquick_execute\u001b[1;34m(op_name, num_outputs, inputs, attrs, ctx, name)\u001b[0m\n\u001b[0;32m     58\u001b[0m     \u001b[0mctx\u001b[0m\u001b[1;33m.\u001b[0m\u001b[0mensure_initialized\u001b[0m\u001b[1;33m(\u001b[0m\u001b[1;33m)\u001b[0m\u001b[1;33m\u001b[0m\u001b[1;33m\u001b[0m\u001b[0m\n\u001b[0;32m     59\u001b[0m     tensors = pywrap_tfe.TFE_Py_Execute(ctx._handle, device_name, op_name,\n\u001b[1;32m---> 60\u001b[1;33m                                         inputs, attrs, num_outputs)\n\u001b[0m\u001b[0;32m     61\u001b[0m   \u001b[1;32mexcept\u001b[0m \u001b[0mcore\u001b[0m\u001b[1;33m.\u001b[0m\u001b[0m_NotOkStatusException\u001b[0m \u001b[1;32mas\u001b[0m \u001b[0me\u001b[0m\u001b[1;33m:\u001b[0m\u001b[1;33m\u001b[0m\u001b[1;33m\u001b[0m\u001b[0m\n\u001b[0;32m     62\u001b[0m     \u001b[1;32mif\u001b[0m \u001b[0mname\u001b[0m \u001b[1;32mis\u001b[0m \u001b[1;32mnot\u001b[0m \u001b[1;32mNone\u001b[0m\u001b[1;33m:\u001b[0m\u001b[1;33m\u001b[0m\u001b[1;33m\u001b[0m\u001b[0m\n",
      "\u001b[1;31mUnknownError\u001b[0m:  Failed to get convolution algorithm. This is probably because cuDNN failed to initialize, so try looking to see if a warning log message was printed above.\n\t [[node model/block1_conv1/Conv2D (defined at <ipython-input-1-942fefccfa31>:17) ]] [Op:__inference_predict_function_1339]\n\nFunction call stack:\npredict_function\n"
     ]
    }
   ],
   "source": [
    "# entry point, run the example\n",
    "import tensorflow as tf\n",
    "tf.keras.backend.clear_session()\n",
    "\n",
    "run_example('Dataset/Aakash_validation-1.jpg')\n"
   ]
  },
  {
   "cell_type": "markdown",
   "metadata": {
    "papermill": {
     "duration": 0.046224,
     "end_time": "2020-08-10T16:51:21.803111",
     "exception": false,
     "start_time": "2020-08-10T16:51:21.756887",
     "status": "completed"
    },
    "tags": []
   },
   "source": [
    "# Yeah it predicts well!!"
   ]
  }
 ],
 "metadata": {
  "hide_input": false,
  "kernelspec": {
   "display_name": "Python 3",
   "language": "python",
   "name": "python3"
  },
  "language_info": {
   "codemirror_mode": {
    "name": "ipython",
    "version": 3
   },
   "file_extension": ".py",
   "mimetype": "text/x-python",
   "name": "python",
   "nbconvert_exporter": "python",
   "pygments_lexer": "ipython3",
   "version": "3.8.3"
  },
  "latex_envs": {
   "LaTeX_envs_menu_present": true,
   "autoclose": false,
   "autocomplete": true,
   "bibliofile": "biblio.bib",
   "cite_by": "apalike",
   "current_citInitial": 1,
   "eqLabelWithNumbers": true,
   "eqNumInitial": 1,
   "hotkeys": {
    "equation": "Ctrl-E",
    "itemize": "Ctrl-I"
   },
   "labels_anchors": false,
   "latex_user_defs": false,
   "report_style_numbering": false,
   "user_envs_cfg": false
  },
  "papermill": {
   "duration": 51.860853,
   "end_time": "2020-08-10T16:51:23.243121",
   "environment_variables": {},
   "exception": null,
   "input_path": "__notebook__.ipynb",
   "output_path": "__notebook__.ipynb",
   "parameters": {},
   "start_time": "2020-08-10T16:50:31.382268",
   "version": "2.1.0"
  },
  "varInspector": {
   "cols": {
    "lenName": 16,
    "lenType": 16,
    "lenVar": 40
   },
   "kernels_config": {
    "python": {
     "delete_cmd_postfix": "",
     "delete_cmd_prefix": "del ",
     "library": "var_list.py",
     "varRefreshCmd": "print(var_dic_list())"
    },
    "r": {
     "delete_cmd_postfix": ") ",
     "delete_cmd_prefix": "rm(",
     "library": "var_list.r",
     "varRefreshCmd": "cat(var_dic_list()) "
    }
   },
   "types_to_exclude": [
    "module",
    "function",
    "builtin_function_or_method",
    "instance",
    "_Feature"
   ],
   "window_display": false
  }
 },
 "nbformat": 4,
 "nbformat_minor": 4
}
